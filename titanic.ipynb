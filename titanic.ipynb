{
 "cells": [
  {
   "cell_type": "markdown",
   "metadata": {},
   "source": [
    "# Titanic EDA - Module 1"
   ]
  },
  {
   "cell_type": "code",
   "execution_count": null,
   "metadata": {},
   "outputs": [],
   "source": []
  },
  {
   "cell_type": "code",
   "execution_count": null,
   "metadata": {},
   "outputs": [],
   "source": []
  },
  {
   "cell_type": "code",
   "execution_count": 1,
   "metadata": {},
   "outputs": [],
   "source": [
    "# Ignore warnings\n",
    "import warnings\n",
    "warnings.filterwarnings(\"ignore\", category=Warning)\n",
    "###Loading Packages###\n",
    "import pandas as pd  # data frame operations  \n",
    "import numpy as np  # arrays and math functions\n",
    "import matplotlib.pyplot as plt  # static plotting\n",
    "import seaborn as sns  # pretty plotting, including heat map\n",
    "import re # regular expressions\n",
    "import scipy"
   ]
  },
  {
   "cell_type": "code",
   "execution_count": 2,
   "metadata": {},
   "outputs": [],
   "source": [
    "df=pd.read_csv('train.csv')"
   ]
  },
  {
   "cell_type": "code",
   "execution_count": 3,
   "metadata": {},
   "outputs": [
    {
     "data": {
      "text/html": [
       "<div>\n",
       "<style scoped>\n",
       "    .dataframe tbody tr th:only-of-type {\n",
       "        vertical-align: middle;\n",
       "    }\n",
       "\n",
       "    .dataframe tbody tr th {\n",
       "        vertical-align: top;\n",
       "    }\n",
       "\n",
       "    .dataframe thead th {\n",
       "        text-align: right;\n",
       "    }\n",
       "</style>\n",
       "<table border=\"1\" class=\"dataframe\">\n",
       "  <thead>\n",
       "    <tr style=\"text-align: right;\">\n",
       "      <th></th>\n",
       "      <th>PassengerId</th>\n",
       "      <th>Survived</th>\n",
       "      <th>Pclass</th>\n",
       "      <th>Name</th>\n",
       "      <th>Sex</th>\n",
       "      <th>Age</th>\n",
       "      <th>SibSp</th>\n",
       "      <th>Parch</th>\n",
       "      <th>Ticket</th>\n",
       "      <th>Fare</th>\n",
       "      <th>Cabin</th>\n",
       "      <th>Embarked</th>\n",
       "    </tr>\n",
       "  </thead>\n",
       "  <tbody>\n",
       "    <tr>\n",
       "      <th>0</th>\n",
       "      <td>1</td>\n",
       "      <td>0</td>\n",
       "      <td>3</td>\n",
       "      <td>Braund, Mr. Owen Harris</td>\n",
       "      <td>male</td>\n",
       "      <td>22.0</td>\n",
       "      <td>1</td>\n",
       "      <td>0</td>\n",
       "      <td>A/5 21171</td>\n",
       "      <td>7.2500</td>\n",
       "      <td>NaN</td>\n",
       "      <td>S</td>\n",
       "    </tr>\n",
       "    <tr>\n",
       "      <th>1</th>\n",
       "      <td>2</td>\n",
       "      <td>1</td>\n",
       "      <td>1</td>\n",
       "      <td>Cumings, Mrs. John Bradley (Florence Briggs Th...</td>\n",
       "      <td>female</td>\n",
       "      <td>38.0</td>\n",
       "      <td>1</td>\n",
       "      <td>0</td>\n",
       "      <td>PC 17599</td>\n",
       "      <td>71.2833</td>\n",
       "      <td>C85</td>\n",
       "      <td>C</td>\n",
       "    </tr>\n",
       "    <tr>\n",
       "      <th>2</th>\n",
       "      <td>3</td>\n",
       "      <td>1</td>\n",
       "      <td>3</td>\n",
       "      <td>Heikkinen, Miss. Laina</td>\n",
       "      <td>female</td>\n",
       "      <td>26.0</td>\n",
       "      <td>0</td>\n",
       "      <td>0</td>\n",
       "      <td>STON/O2. 3101282</td>\n",
       "      <td>7.9250</td>\n",
       "      <td>NaN</td>\n",
       "      <td>S</td>\n",
       "    </tr>\n",
       "    <tr>\n",
       "      <th>3</th>\n",
       "      <td>4</td>\n",
       "      <td>1</td>\n",
       "      <td>1</td>\n",
       "      <td>Futrelle, Mrs. Jacques Heath (Lily May Peel)</td>\n",
       "      <td>female</td>\n",
       "      <td>35.0</td>\n",
       "      <td>1</td>\n",
       "      <td>0</td>\n",
       "      <td>113803</td>\n",
       "      <td>53.1000</td>\n",
       "      <td>C123</td>\n",
       "      <td>S</td>\n",
       "    </tr>\n",
       "    <tr>\n",
       "      <th>4</th>\n",
       "      <td>5</td>\n",
       "      <td>0</td>\n",
       "      <td>3</td>\n",
       "      <td>Allen, Mr. William Henry</td>\n",
       "      <td>male</td>\n",
       "      <td>35.0</td>\n",
       "      <td>0</td>\n",
       "      <td>0</td>\n",
       "      <td>373450</td>\n",
       "      <td>8.0500</td>\n",
       "      <td>NaN</td>\n",
       "      <td>S</td>\n",
       "    </tr>\n",
       "  </tbody>\n",
       "</table>\n",
       "</div>"
      ],
      "text/plain": [
       "   PassengerId  Survived  Pclass  \\\n",
       "0            1         0       3   \n",
       "1            2         1       1   \n",
       "2            3         1       3   \n",
       "3            4         1       1   \n",
       "4            5         0       3   \n",
       "\n",
       "                                                Name     Sex   Age  SibSp  \\\n",
       "0                            Braund, Mr. Owen Harris    male  22.0      1   \n",
       "1  Cumings, Mrs. John Bradley (Florence Briggs Th...  female  38.0      1   \n",
       "2                             Heikkinen, Miss. Laina  female  26.0      0   \n",
       "3       Futrelle, Mrs. Jacques Heath (Lily May Peel)  female  35.0      1   \n",
       "4                           Allen, Mr. William Henry    male  35.0      0   \n",
       "\n",
       "   Parch            Ticket     Fare Cabin Embarked  \n",
       "0      0         A/5 21171   7.2500   NaN        S  \n",
       "1      0          PC 17599  71.2833   C85        C  \n",
       "2      0  STON/O2. 3101282   7.9250   NaN        S  \n",
       "3      0            113803  53.1000  C123        S  \n",
       "4      0            373450   8.0500   NaN        S  "
      ]
     },
     "execution_count": 3,
     "metadata": {},
     "output_type": "execute_result"
    }
   ],
   "source": [
    "df.head()"
   ]
  },
  {
   "cell_type": "code",
   "execution_count": 4,
   "metadata": {},
   "outputs": [
    {
     "data": {
      "text/plain": [
       "PassengerId      0\n",
       "Survived         0\n",
       "Pclass           0\n",
       "Name             0\n",
       "Sex              0\n",
       "Age            177\n",
       "SibSp            0\n",
       "Parch            0\n",
       "Ticket           0\n",
       "Fare             0\n",
       "Cabin          687\n",
       "Embarked         2\n",
       "dtype: int64"
      ]
     },
     "execution_count": 4,
     "metadata": {},
     "output_type": "execute_result"
    }
   ],
   "source": [
    "#check for null values\n",
    "df.isnull().sum()"
   ]
  },
  {
   "cell_type": "code",
   "execution_count": 7,
   "metadata": {},
   "outputs": [
    {
     "data": {
      "text/plain": [
       "Sex     Survived\n",
       "female  0            81\n",
       "        1           233\n",
       "male    0           468\n",
       "        1           109\n",
       "Name: Survived, dtype: int64"
      ]
     },
     "execution_count": 7,
     "metadata": {},
     "output_type": "execute_result"
    }
   ],
   "source": [
    "df.groupby(['Sex','Survived'])['Survived'].count()"
   ]
  },
  {
   "cell_type": "code",
   "execution_count": 8,
   "metadata": {},
   "outputs": [
    {
     "data": {
      "image/png": "[encoded data removed]",
      "text/plain": [
       "<Figure size 1296x576 with 2 Axes>"
      ]
     },
     "metadata": {
      "needs_background": "light"
     },
     "output_type": "display_data"
    }
   ],
   "source": [
    "f,ax=plt.subplots(1,2,figsize=(18,8))\n",
    "df[['Sex','Survived']].groupby(['Sex']).mean().plot.bar(ax=ax[0])\n",
    "ax[0].set_title('Survived vs Sex')\n",
    "sns.countplot('Sex',hue='Survived',data=df,ax=ax[1])\n",
    "ax[1].set_title('Sex:Survived vs Dead')\n",
    "plt.show()"
   ]
  },
  {
   "cell_type": "code",
   "execution_count": 12,
   "metadata": {},
   "outputs": [
    {
     "data": {
      "image/png": "[encoded data removed]",
      "text/plain": [
       "<Figure size 1296x576 with 2 Axes>"
      ]
     },
     "metadata": {
      "needs_background": "light"
     },
     "output_type": "display_data"
    }
   ],
   "source": [
    "f,ax=plt.subplots(1,2,figsize=(18,8))\n",
    "df['Pclass'].value_counts().plot.bar(color=['lightcoral','aqua','darkorchid'],ax=ax[0])\n",
    "ax[0].set_title('Number Of Passengers By Pclass')\n",
    "ax[0].set_ylabel('Count')\n",
    "sns.countplot('Pclass',hue='Survived',data=df,ax=ax[1])\n",
    "ax[1].set_title('Pclass:Survived vs Dead')\n",
    "plt.show()"
   ]
  },
  {
   "cell_type": "code",
   "execution_count": 16,
   "metadata": {},
   "outputs": [
    {
     "data": {
      "text/html": [
       "<style  type=\"text/css\" >\n",
       "    #T_ba0792f0_7c13_11ea_8adf_dc53605e45abrow0_col0 {\n",
       "            background-color:  #00ffff;\n",
       "        }    #T_ba0792f0_7c13_11ea_8adf_dc53605e45abrow0_col1 {\n",
       "            background-color:  #00ffff;\n",
       "        }    #T_ba0792f0_7c13_11ea_8adf_dc53605e45abrow0_col2 {\n",
       "            background-color:  #0ef1ff;\n",
       "        }    #T_ba0792f0_7c13_11ea_8adf_dc53605e45abrow0_col3 {\n",
       "            background-color:  #00ffff;\n",
       "        }    #T_ba0792f0_7c13_11ea_8adf_dc53605e45abrow1_col0 {\n",
       "            background-color:  #6996ff;\n",
       "        }    #T_ba0792f0_7c13_11ea_8adf_dc53605e45abrow1_col1 {\n",
       "            background-color:  #5ca3ff;\n",
       "        }    #T_ba0792f0_7c13_11ea_8adf_dc53605e45abrow1_col2 {\n",
       "            background-color:  #0ef1ff;\n",
       "        }    #T_ba0792f0_7c13_11ea_8adf_dc53605e45abrow1_col3 {\n",
       "            background-color:  #30cfff;\n",
       "        }    #T_ba0792f0_7c13_11ea_8adf_dc53605e45abrow2_col0 {\n",
       "            background-color:  #58a7ff;\n",
       "        }    #T_ba0792f0_7c13_11ea_8adf_dc53605e45abrow2_col1 {\n",
       "            background-color:  #7a85ff;\n",
       "        }    #T_ba0792f0_7c13_11ea_8adf_dc53605e45abrow2_col2 {\n",
       "            background-color:  #916eff;\n",
       "        }    #T_ba0792f0_7c13_11ea_8adf_dc53605e45abrow2_col3 {\n",
       "            background-color:  #7a85ff;\n",
       "        }    #T_ba0792f0_7c13_11ea_8adf_dc53605e45abrow3_col0 {\n",
       "            background-color:  #32cdff;\n",
       "        }    #T_ba0792f0_7c13_11ea_8adf_dc53605e45abrow3_col1 {\n",
       "            background-color:  #0ff0ff;\n",
       "        }    #T_ba0792f0_7c13_11ea_8adf_dc53605e45abrow3_col2 {\n",
       "            background-color:  #00ffff;\n",
       "        }    #T_ba0792f0_7c13_11ea_8adf_dc53605e45abrow3_col3 {\n",
       "            background-color:  #08f7ff;\n",
       "        }    #T_ba0792f0_7c13_11ea_8adf_dc53605e45abrow4_col0 {\n",
       "            background-color:  #ff00ff;\n",
       "        }    #T_ba0792f0_7c13_11ea_8adf_dc53605e45abrow4_col1 {\n",
       "            background-color:  #ff00ff;\n",
       "        }    #T_ba0792f0_7c13_11ea_8adf_dc53605e45abrow4_col2 {\n",
       "            background-color:  #ff00ff;\n",
       "        }    #T_ba0792f0_7c13_11ea_8adf_dc53605e45abrow4_col3 {\n",
       "            background-color:  #ff00ff;\n",
       "        }</style>  \n",
       "<table id=\"T_ba0792f0_7c13_11ea_8adf_dc53605e45ab\" > \n",
       "<thead>    <tr> \n",
       "        <th class=\"blank\" ></th> \n",
       "        <th class=\"index_name level0\" >Pclass</th> \n",
       "        <th class=\"col_heading level0 col0\" >1</th> \n",
       "        <th class=\"col_heading level0 col1\" >2</th> \n",
       "        <th class=\"col_heading level0 col2\" >3</th> \n",
       "        <th class=\"col_heading level0 col3\" >All</th> \n",
       "    </tr>    <tr> \n",
       "        <th class=\"index_name level0\" >Sex</th> \n",
       "        <th class=\"index_name level1\" >Survived</th> \n",
       "        <th class=\"blank\" ></th> \n",
       "        <th class=\"blank\" ></th> \n",
       "        <th class=\"blank\" ></th> \n",
       "        <th class=\"blank\" ></th> \n",
       "    </tr></thead> \n",
       "<tbody>    <tr> \n",
       "        <th id=\"T_ba0792f0_7c13_11ea_8adf_dc53605e45ablevel0_row0\" class=\"row_heading level0 row0\" rowspan=2>female</th> \n",
       "        <th id=\"T_ba0792f0_7c13_11ea_8adf_dc53605e45ablevel1_row0\" class=\"row_heading level1 row0\" >0</th> \n",
       "        <td id=\"T_ba0792f0_7c13_11ea_8adf_dc53605e45abrow0_col0\" class=\"data row0 col0\" >3</td> \n",
       "        <td id=\"T_ba0792f0_7c13_11ea_8adf_dc53605e45abrow0_col1\" class=\"data row0 col1\" >6</td> \n",
       "        <td id=\"T_ba0792f0_7c13_11ea_8adf_dc53605e45abrow0_col2\" class=\"data row0 col2\" >72</td> \n",
       "        <td id=\"T_ba0792f0_7c13_11ea_8adf_dc53605e45abrow0_col3\" class=\"data row0 col3\" >81</td> \n",
       "    </tr>    <tr> \n",
       "        <th id=\"T_ba0792f0_7c13_11ea_8adf_dc53605e45ablevel1_row1\" class=\"row_heading level1 row1\" >1</th> \n",
       "        <td id=\"T_ba0792f0_7c13_11ea_8adf_dc53605e45abrow1_col0\" class=\"data row1 col0\" >91</td> \n",
       "        <td id=\"T_ba0792f0_7c13_11ea_8adf_dc53605e45abrow1_col1\" class=\"data row1 col1\" >70</td> \n",
       "        <td id=\"T_ba0792f0_7c13_11ea_8adf_dc53605e45abrow1_col2\" class=\"data row1 col2\" >72</td> \n",
       "        <td id=\"T_ba0792f0_7c13_11ea_8adf_dc53605e45abrow1_col3\" class=\"data row1 col3\" >233</td> \n",
       "    </tr>    <tr> \n",
       "        <th id=\"T_ba0792f0_7c13_11ea_8adf_dc53605e45ablevel0_row2\" class=\"row_heading level0 row2\" rowspan=2>male</th> \n",
       "        <th id=\"T_ba0792f0_7c13_11ea_8adf_dc53605e45ablevel1_row2\" class=\"row_heading level1 row2\" >0</th> \n",
       "        <td id=\"T_ba0792f0_7c13_11ea_8adf_dc53605e45abrow2_col0\" class=\"data row2 col0\" >77</td> \n",
       "        <td id=\"T_ba0792f0_7c13_11ea_8adf_dc53605e45abrow2_col1\" class=\"data row2 col1\" >91</td> \n",
       "        <td id=\"T_ba0792f0_7c13_11ea_8adf_dc53605e45abrow2_col2\" class=\"data row2 col2\" >300</td> \n",
       "        <td id=\"T_ba0792f0_7c13_11ea_8adf_dc53605e45abrow2_col3\" class=\"data row2 col3\" >468</td> \n",
       "    </tr>    <tr> \n",
       "        <th id=\"T_ba0792f0_7c13_11ea_8adf_dc53605e45ablevel1_row3\" class=\"row_heading level1 row3\" >1</th> \n",
       "        <td id=\"T_ba0792f0_7c13_11ea_8adf_dc53605e45abrow3_col0\" class=\"data row3 col0\" >45</td> \n",
       "        <td id=\"T_ba0792f0_7c13_11ea_8adf_dc53605e45abrow3_col1\" class=\"data row3 col1\" >17</td> \n",
       "        <td id=\"T_ba0792f0_7c13_11ea_8adf_dc53605e45abrow3_col2\" class=\"data row3 col2\" >47</td> \n",
       "        <td id=\"T_ba0792f0_7c13_11ea_8adf_dc53605e45abrow3_col3\" class=\"data row3 col3\" >109</td> \n",
       "    </tr>    <tr> \n",
       "        <th id=\"T_ba0792f0_7c13_11ea_8adf_dc53605e45ablevel0_row4\" class=\"row_heading level0 row4\" >All</th> \n",
       "        <th id=\"T_ba0792f0_7c13_11ea_8adf_dc53605e45ablevel1_row4\" class=\"row_heading level1 row4\" ></th> \n",
       "        <td id=\"T_ba0792f0_7c13_11ea_8adf_dc53605e45abrow4_col0\" class=\"data row4 col0\" >216</td> \n",
       "        <td id=\"T_ba0792f0_7c13_11ea_8adf_dc53605e45abrow4_col1\" class=\"data row4 col1\" >184</td> \n",
       "        <td id=\"T_ba0792f0_7c13_11ea_8adf_dc53605e45abrow4_col2\" class=\"data row4 col2\" >491</td> \n",
       "        <td id=\"T_ba0792f0_7c13_11ea_8adf_dc53605e45abrow4_col3\" class=\"data row4 col3\" >891</td> \n",
       "    </tr></tbody> \n",
       "</table> "
      ],
      "text/plain": [
       "<pandas.io.formats.style.Styler at 0x1eff6ee9f98>"
      ]
     },
     "execution_count": 16,
     "metadata": {},
     "output_type": "execute_result"
    }
   ],
   "source": [
    "pd.crosstab([df.Sex,df.Survived],df.Pclass,margins=True).style.background_gradient(cmap='cool')"
   ]
  },
  {
   "cell_type": "code",
   "execution_count": 18,
   "metadata": {},
   "outputs": [
    {
     "name": "stderr",
     "output_type": "stream",
     "text": [
      "C:\\Users\\aejou\\Anaconda3\\lib\\site-packages\\seaborn\\categorical.py:3666: UserWarning: The `factorplot` function has been renamed to `catplot`. The original name will be removed in a future release. Please update your code. Note that the default `kind` in `factorplot` (`'point'`) has changed `'strip'` in `catplot`.\n",
      "  warnings.warn(msg)\n"
     ]
    },
    {
     "data": {
      "image/png": "[encoded data removed]",
      "text/plain": [
       "<Figure size 430.5x360 with 1 Axes>"
      ]
     },
     "metadata": {
      "needs_background": "light"
     },
     "output_type": "display_data"
    }
   ],
   "source": [
    "sns.factorplot('Pclass','Survived',hue='Sex',data=df)\n",
    "plt.show()"
   ]
  },
  {
   "cell_type": "code",
   "execution_count": 19,
   "metadata": {},
   "outputs": [
    {
     "data": {
      "text/plain": [
       "Age    Survived\n",
       "0.42   1           1\n",
       "0.67   1           1\n",
       "0.75   1           2\n",
       "0.83   1           2\n",
       "0.92   1           1\n",
       "1.00   0           2\n",
       "       1           5\n",
       "2.00   0           7\n",
       "       1           3\n",
       "3.00   0           1\n",
       "       1           5\n",
       "4.00   0           3\n",
       "       1           7\n",
       "5.00   1           4\n",
       "6.00   0           1\n",
       "       1           2\n",
       "7.00   0           2\n",
       "       1           1\n",
       "8.00   0           2\n",
       "       1           2\n",
       "9.00   0           6\n",
       "       1           2\n",
       "10.00  0           2\n",
       "11.00  0           3\n",
       "       1           1\n",
       "12.00  1           1\n",
       "13.00  1           2\n",
       "14.00  0           3\n",
       "       1           3\n",
       "14.50  0           1\n",
       "                  ..\n",
       "51.00  0           5\n",
       "       1           2\n",
       "52.00  0           3\n",
       "       1           3\n",
       "53.00  1           1\n",
       "54.00  0           5\n",
       "       1           3\n",
       "55.00  0           1\n",
       "       1           1\n",
       "55.50  0           1\n",
       "56.00  0           2\n",
       "       1           2\n",
       "57.00  0           2\n",
       "58.00  0           2\n",
       "       1           3\n",
       "59.00  0           2\n",
       "60.00  0           2\n",
       "       1           2\n",
       "61.00  0           3\n",
       "62.00  0           2\n",
       "       1           2\n",
       "63.00  1           2\n",
       "64.00  0           2\n",
       "65.00  0           3\n",
       "66.00  0           1\n",
       "70.00  0           2\n",
       "70.50  0           1\n",
       "71.00  0           2\n",
       "74.00  0           1\n",
       "80.00  1           1\n",
       "Name: Survived, Length: 142, dtype: int64"
      ]
     },
     "execution_count": 19,
     "metadata": {},
     "output_type": "execute_result"
    }
   ],
   "source": [
    "df.groupby(['Age','Survived'])['Survived'].count()"
   ]
  },
  {
   "cell_type": "code",
   "execution_count": 22,
   "metadata": {},
   "outputs": [
    {
     "data": {
      "image/png": "[encoded data removed]",
      "text/plain": [
       "<Figure size 1440x720 with 2 Axes>"
      ]
     },
     "metadata": {
      "needs_background": "light"
     },
     "output_type": "display_data"
    }
   ],
   "source": [
    "f,ax=plt.subplots(1,2,figsize=(20,10))\n",
    "df[df['Survived']==0].Age.plot.hist(ax=ax[0],bins=20,edgecolor='black',color='lightblue')\n",
    "ax[0].set_title('Survived= 0')\n",
    "x1=list(range(0,85,5))\n",
    "ax[0].set_xticks(x1)\n",
    "df[df['Survived']==1].Age.plot.hist(ax=ax[1],color='lightgreen',bins=20,edgecolor='black')\n",
    "ax[1].set_title('Survived= 1')\n",
    "x2=list(range(0,85,5))\n",
    "ax[1].set_xticks(x2)\n",
    "plt.show()"
   ]
  },
  {
   "cell_type": "code",
   "execution_count": null,
   "metadata": {},
   "outputs": [],
   "source": []
  },
  {
   "cell_type": "code",
   "execution_count": null,
   "metadata": {},
   "outputs": [],
   "source": []
  },
  {
   "cell_type": "code",
   "execution_count": null,
   "metadata": {},
   "outputs": [],
   "source": []
  },
  {
   "cell_type": "code",
   "execution_count": null,
   "metadata": {},
   "outputs": [],
   "source": []
  },
  {
   "cell_type": "code",
   "execution_count": null,
   "metadata": {},
   "outputs": [],
   "source": []
  },
  {
   "cell_type": "code",
   "execution_count": null,
   "metadata": {},
   "outputs": [],
   "source": []
  },
  {
   "cell_type": "code",
   "execution_count": null,
   "metadata": {},
   "outputs": [],
   "source": []
  },
  {
   "cell_type": "code",
   "execution_count": null,
   "metadata": {},
   "outputs": [],
   "source": []
  },
  {
   "cell_type": "code",
   "execution_count": null,
   "metadata": {},
   "outputs": [],
   "source": []
  },
  {
   "cell_type": "code",
   "execution_count": null,
   "metadata": {},
   "outputs": [],
   "source": []
  },
  {
   "cell_type": "code",
   "execution_count": null,
   "metadata": {},
   "outputs": [],
   "source": []
  }
 ],
 "metadata": {
  "kernelspec": {
   "display_name": "Python 3",
   "language": "python",
   "name": "python3"
  },
  "language_info": {
   "codemirror_mode": {
    "name": "ipython",
    "version": 3
   },
   "file_extension": ".py",
   "mimetype": "text/x-python",
   "name": "python",
   "nbconvert_exporter": "python",
   "pygments_lexer": "ipython3",
   "version": "3.7.1"
  }
 },
 "nbformat": 4,
 "nbformat_minor": 2
}
